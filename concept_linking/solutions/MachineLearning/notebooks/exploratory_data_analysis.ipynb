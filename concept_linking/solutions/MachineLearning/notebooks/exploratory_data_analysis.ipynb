{
 "cells": [
  {
   "cell_type": "code",
   "execution_count": null,
   "id": "initial_id",
   "metadata": {
    "collapsed": true
   },
   "outputs": [],
   "source": [
    "# exploratory_data_analysis.ipynb\n",
    "\n",
    "# Load necessary libraries\n",
    "import matplotlib.pyplot as plt\n",
    "from src.data_preprocessing import load_data\n",
    "\n",
    "# Load your data from a directory of JSON files\n",
    "data_directory_path = 'data/training_data.json'\n",
    "data = load_data(data_directory_path)\n",
    "\n",
    "# Explore entity type distribution\n",
    "entity_types = [mention['classification'] for sentence in data[0]['sentences'] for mention in sentence['entityMentions']]\n",
    "\n",
    "plt.figure(figsize=(10, 6))\n",
    "plt.hist(entity_types, bins=len(set(entity_types)), alpha=0.75, color='skyblue', edgecolor='black')\n",
    "plt.title('Distribution of Entity Types')\n",
    "plt.xlabel('Entity Types')\n",
    "plt.ylabel('Count')\n",
    "plt.show()\n",
    "\n",
    "# Explore sentence length distribution\n",
    "sentence_lengths = [len(sentence['sentence']) for sentence in data[0]['sentences']]\n",
    "\n",
    "plt.figure(figsize=(10, 6))\n",
    "plt.hist(sentence_lengths, bins=20, alpha=0.75, color='salmon', edgecolor='black')\n",
    "plt.title('Distribution of Sentence Lengths')\n",
    "plt.xlabel('Sentence Length')\n",
    "plt.ylabel('Count')\n",
    "plt.show()\n"
   ]
  }
 ],
 "metadata": {
  "kernelspec": {
   "display_name": "Python 3",
   "language": "python",
   "name": "python3"
  },
  "language_info": {
   "codemirror_mode": {
    "name": "ipython",
    "version": 2
   },
   "file_extension": ".py",
   "mimetype": "text/x-python",
   "name": "python",
   "nbconvert_exporter": "python",
   "pygments_lexer": "ipython2",
   "version": "2.7.6"
  }
 },
 "nbformat": 4,
 "nbformat_minor": 5
}
