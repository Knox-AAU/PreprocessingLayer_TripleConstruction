{
 "cells": [
  {
   "cell_type": "code",
   "execution_count": null,
   "id": "ffe1d5b3-a456-4a6a-89f8-bc25c9b366c7",
   "metadata": {},
   "outputs": [],
   "source": [
    "# Install necessary packages if not already installed\n",
    "# !pip install torch  # Uncomment and run if torch is not installed\n",
    "\n",
    "# Import libraries\n",
    "import torch\n",
    "from src.model_module import ModelClass\n",
    "from your_data_loading_module import load_test_data  # Adjust the import based on your project structure"
   ]
  },
  {
   "cell_type": "code",
   "execution_count": null,
   "id": "7dc5887c-13b1-4357-9c94-4d1c5d3a4fdb",
   "metadata": {},
   "outputs": [],
   "source": [
    "# Load the trained model\n",
    "model = YourModelClass()\n",
    "model.load_state_dict(torch.load('path/to/your/trained_model.pth'))\n",
    "model.eval()"
   ]
  },
  {
   "cell_type": "code",
   "execution_count": null,
   "id": "8db2b26d-8a52-49e9-9d07-47b769e98e21",
   "metadata": {},
   "outputs": [],
   "source": [
    "# Load test data\n",
    "test_data = load_test_data()  # Implement this function to load your test data"
   ]
  },
  {
   "cell_type": "code",
   "execution_count": null,
   "id": "bc2a9417-df61-497a-b653-7084d20066eb",
   "metadata": {},
   "outputs": [],
   "source": [
    "# Perform inference on the test data\n",
    "for sample in test_data:\n",
    "    inputs = sample['input']  # Adjust based on your data structure\n",
    "    with torch.no_grad():\n",
    "        outputs = model(inputs)\n",
    "    predictions = torch.sigmoid(outputs)  # Adjust based on your output activation function\n",
    "    print(f\"Input: {inputs}, Predictions: {predictions}\")"
   ]
  }
 ],
 "metadata": {
  "kernelspec": {
   "display_name": "Python 3 (ipykernel)",
   "language": "python",
   "name": "python3"
  },
  "language_info": {
   "codemirror_mode": {
    "name": "ipython",
    "version": 3
   },
   "file_extension": ".py",
   "mimetype": "text/x-python",
   "name": "python",
   "nbconvert_exporter": "python",
   "pygments_lexer": "ipython3",
   "version": "3.9.13"
  }
 },
 "nbformat": 4,
 "nbformat_minor": 5
}
